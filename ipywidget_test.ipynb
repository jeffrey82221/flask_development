{
 "cells": [
  {
   "cell_type": "code",
   "execution_count": null,
   "metadata": {
    "scrolled": true
   },
   "outputs": [],
   "source": [
    "from interactive_widgets_builder.view_controller import ViewController\n",
    "vc = ViewController(platform = 'jupyter')\n",
    "vc.entry()"
   ]
  },
  {
   "cell_type": "code",
   "execution_count": 1,
   "metadata": {},
   "outputs": [],
   "source": [
    "from interactive_widgets_builder.view_controller import ViewController\n",
    "from IPython.display import display, clear_output\n",
    "from ipywidgets import widgets, Layout, VBox, HBox\n",
    "\n",
    "class AuthenticationView():\n",
    "    def _submit(self, b):\n",
    "        if self.user_textbox.value == 'esb21375' and self.pwd_textbox.value == 'pwd':\n",
    "            clear_output(wait=True)\n",
    "            vc = ViewController(platform = 'jupyter')\n",
    "            vc.entry()\n",
    "        else:\n",
    "            pass \n",
    "            \n",
    "    def __init__(self):\n",
    "        self.user_textbox = widgets.Text(\n",
    "            value='',\n",
    "            placeholder='',\n",
    "            description='User:',\n",
    "            disabled=False,\n",
    "            layout=Layout(width='94%', height='40px')\n",
    "        )\n",
    "\n",
    "        self.pwd_textbox = widgets.Password(\n",
    "            value='',\n",
    "            placeholder='',\n",
    "            description='Password:',\n",
    "            disabled=False,\n",
    "            layout=Layout(width='50%', height='40px')\n",
    "        )\n",
    "        self.button = widgets.Button(\n",
    "            value=False,\n",
    "            description='Enter',\n",
    "            disabled=False,\n",
    "            button_style='',\n",
    "            tooltip='',\n",
    "            icon='Enter',\n",
    "            layout=Layout(width='10%', height='80px')\n",
    "        )\n",
    "        self.button.on_click(self._submit)\n",
    "    def display(self):\n",
    "        display(HBox([\n",
    "            VBox([self.user_textbox, self.pwd_textbox]),\n",
    "            self.button\n",
    "        ]))"
   ]
  },
  {
   "cell_type": "code",
   "execution_count": 2,
   "metadata": {},
   "outputs": [
    {
     "data": {
      "application/vnd.jupyter.widget-view+json": {
       "model_id": "e8110262ad6040f7bacc90a19d04d4ec",
       "version_major": 2,
       "version_minor": 0
      },
      "text/plain": [
       "VkJveChjaGlsZHJlbj0oSEJveChjaGlsZHJlbj0oaW50ZXJhY3RpdmUoY2hpbGRyZW49KERyb3Bkb3duKGRlc2NyaXB0aW9uPXUnUm9sZTonLCBvcHRpb25zPSgnUE0nLCAnQWRtaW4nLCAnTWXigKY=\n"
      ]
     },
     "metadata": {},
     "output_type": "display_data"
    }
   ],
   "source": [
    "av = AuthenticationView()\n",
    "av.display()"
   ]
  },
  {
   "cell_type": "code",
   "execution_count": null,
   "metadata": {},
   "outputs": [],
   "source": []
  }
 ],
 "metadata": {
  "kernelspec": {
   "display_name": "Python 3",
   "language": "python",
   "name": "python3"
  },
  "language_info": {
   "codemirror_mode": {
    "name": "ipython",
    "version": 2
   },
   "file_extension": ".py",
   "mimetype": "text/x-python",
   "name": "python",
   "nbconvert_exporter": "python",
   "pygments_lexer": "ipython2",
   "version": "2.7.16"
  },
  "toc": {
   "base_numbering": 1,
   "nav_menu": {},
   "number_sections": true,
   "sideBar": true,
   "skip_h1_title": false,
   "title_cell": "Table of Contents",
   "title_sidebar": "Contents",
   "toc_cell": false,
   "toc_position": {},
   "toc_section_display": true,
   "toc_window_display": false
  }
 },
 "nbformat": 4,
 "nbformat_minor": 4
}
