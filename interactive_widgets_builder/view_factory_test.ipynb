{
 "cells": [
  {
   "cell_type": "code",
   "execution_count": 4,
   "metadata": {},
   "outputs": [
    {
     "name": "stdout",
     "output_type": "stream",
     "text": [
      "/Users/jeffrey82221/Documents/Coding Space/ESUNBANK/Flask Development\n"
     ]
    }
   ],
   "source": [
    "%cd ..\n",
    "from interactive_widgets_builder.view_factory import ViewFactory"
   ]
  },
  {
   "cell_type": "code",
   "execution_count": 5,
   "metadata": {},
   "outputs": [
    {
     "data": {
      "application/vnd.jupyter.widget-view+json": {
       "model_id": "12aa2bdea3ac4f64ab3b28ae5397948d",
       "version_major": 2,
       "version_minor": 0
      },
      "text/plain": [
       "VGFiKGNoaWxkcmVuPShWQm94KGNoaWxkcmVuPShHcmlkc3BlY0xheW91dChjaGlsZHJlbj0oQm94KGNoaWxkcmVuPShMYWJlbCh2YWx1ZT11J2NvdW50JyksKSwgbGF5b3V0PUxheW91dChib3LigKY=\n"
      ]
     },
     "metadata": {},
     "output_type": "display_data"
    }
   ],
   "source": [
    "vf = ViewFactory()\n",
    "vf.build_view('all')"
   ]
  },
  {
   "cell_type": "code",
   "execution_count": 6,
   "metadata": {},
   "outputs": [
    {
     "data": {
      "application/vnd.jupyter.widget-view+json": {
       "model_id": "399a8879133d47f9a7b806d2886c2cf6",
       "version_major": 2,
       "version_minor": 0
      },
      "text/plain": [
       "VGFiKGNoaWxkcmVuPShWQm94KGNoaWxkcmVuPShHcmlkc3BlY0xheW91dChjaGlsZHJlbj0oQm94KGNoaWxkcmVuPShMYWJlbCh2YWx1ZT11J2NvdW50JyksKSwgbGF5b3V0PUxheW91dChib3LigKY=\n"
      ]
     },
     "metadata": {},
     "output_type": "display_data"
    }
   ],
   "source": [
    "vf = ViewFactory()\n",
    "vf.build_view('project', 'credit_card')"
   ]
  },
  {
   "cell_type": "code",
   "execution_count": 7,
   "metadata": {},
   "outputs": [
    {
     "data": {
      "application/vnd.jupyter.widget-view+json": {
       "model_id": "71c523652eb548679627266e1b4e069c",
       "version_major": 2,
       "version_minor": 0
      },
      "text/plain": [
       "VGFiKGNoaWxkcmVuPShWQm94KGNoaWxkcmVuPShHcmlkc3BlY0xheW91dChjaGlsZHJlbj0oQm94KGNoaWxkcmVuPShMYWJlbCh2YWx1ZT11J25hbWUnKSwpLCBsYXlvdXQ9TGF5b3V0KGJvcmTigKY=\n"
      ]
     },
     "metadata": {},
     "output_type": "display_data"
    }
   ],
   "source": [
    "vf = ViewFactory()\n",
    "vf.build_view('member', '21375')"
   ]
  },
  {
   "cell_type": "code",
   "execution_count": null,
   "metadata": {},
   "outputs": [],
   "source": []
  }
 ],
 "metadata": {
  "kernelspec": {
   "display_name": "Python 2",
   "language": "python",
   "name": "python2"
  },
  "language_info": {
   "codemirror_mode": {
    "name": "ipython",
    "version": 2
   },
   "file_extension": ".py",
   "mimetype": "text/x-python",
   "name": "python",
   "nbconvert_exporter": "python",
   "pygments_lexer": "ipython2",
   "version": "2.7.16"
  },
  "toc": {
   "base_numbering": 1,
   "nav_menu": {},
   "number_sections": true,
   "sideBar": true,
   "skip_h1_title": false,
   "title_cell": "Table of Contents",
   "title_sidebar": "Contents",
   "toc_cell": false,
   "toc_position": {},
   "toc_section_display": true,
   "toc_window_display": false
  }
 },
 "nbformat": 4,
 "nbformat_minor": 2
}
